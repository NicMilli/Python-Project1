{
 "cells": [
  {
   "cell_type": "markdown",
   "metadata": {},
   "source": [
    "# Project 1"
   ]
  },
  {
   "cell_type": "markdown",
   "metadata": {},
   "source": [
    "### Import toolboxes and define constants:"
   ]
  },
  {
   "cell_type": "code",
   "execution_count": 1,
   "metadata": {},
   "outputs": [],
   "source": [
    "import numpy as np\n",
    "import matplotlib.pyplot as plt\n",
    "import pandas as pd\n",
    "import numpy.linalg as la"
   ]
  },
  {
   "cell_type": "code",
   "execution_count": 2,
   "metadata": {},
   "outputs": [],
   "source": [
    "w=np.array([0.5, 0.3, 0.2]) #cm\n",
    "k=np.array([0.05, 0.15, 0.03])#watt/cm/C\n",
    "h_in=1 #watt/cm2/C\n",
    "h_out=0.8 #watt/cm2/C\n",
    "T_in=200 #C\n",
    "T_out=20 #C"
   ]
  },
  {
   "cell_type": "markdown",
   "metadata": {},
   "source": [
    "### Solve the system of equations for any given variables:"
   ]
  },
  {
   "cell_type": "code",
   "execution_count": 3,
   "metadata": {},
   "outputs": [],
   "source": [
    "def Tvals(w,k,h_in,h_out,T_in,T_out): #w and k are vectors containing 3 values for the respective constants\n",
    "    x=[[h_in*T_in],[0],[0],[h_out*T_out]]\n",
    "    A=np.array([[((k[0]/w[0])+h_in),-(k[0]/w[0]),0,0],[k[0]/w[0],-((k[0]/w[0])+(k[1]/w[1])),-(k[1]/w[1]),0],[0,k[1]/w[1],-((k[1]/w[1])+(k[2]/w[2])),-(k[2]/w[2])],[0,0,k[2]/w[2],-((k[0]/w[0])+h_in)]],dtype=float)\n",
    "    b=np.array(x,dtype=float)\n",
    "\n",
    "    T=la.solve(A,b)\n",
    "    return T"
   ]
  },
  {
   "cell_type": "markdown",
   "metadata": {},
   "source": [
    "### Plot the data points and the polynomial fit line:"
   ]
  },
  {
   "cell_type": "code",
   "execution_count": 4,
   "metadata": {},
   "outputs": [
    {
     "data": {
      "image/png": "[encoded data removed]",
      "text/plain": [
       "<Figure size 432x288 with 1 Axes>"
      ]
     },
     "metadata": {
      "needs_background": "light"
     },
     "output_type": "display_data"
    },
    {
     "name": "stdout",
     "output_type": "stream",
     "text": [
      "The coefficient of determination is: -18.998173590569387\n"
     ]
    }
   ],
   "source": [
    "T3 = []\n",
    "for i in np.arange(0.1,2,0.1): #i is w1 in mm\n",
    "    w1=np.array([i, 0.3, 0.2])\n",
    "    Tvar=Tvals(w1,k,h_in,h_out,T_in,T_out)\n",
    "    T3.append(Tvar[2])\n",
    "\n",
    "    \n",
    "x= np.arange(0.1,2,0.1)   \n",
    "\n",
    "fit_quadratic=np.polyfit(x,T3,7)\n",
    "y2 = np.polyval(fit_quadratic,x)\n",
    "plt.plot(x,T3,'b.',label=\"Datapoints\")\n",
    "plt.plot(x,y2,'g-',label=\"Polynomial fit\") \n",
    "plt.xlabel('width (cm)')\n",
    "plt.ylabel('Outer surface temperature (C)')\n",
    "plt.title('Temperature of the outer surface versus thickness of layer 1')\n",
    "plt.legend(loc='upper right')\n",
    "\n",
    "plt.show()\n",
    "    \n",
    "ymean=np.mean(T3)\n",
    "sstot=sum((T3-ymean)**2)\n",
    "ssres=sum((T3-y2)**2)\n",
    "rs=1-ssres/sstot\n",
    "print('The coefficient of determination is:',sum(rs))"
   ]
  },
  {
   "cell_type": "markdown",
   "metadata": {},
   "source": [
    "### Determin the allowable thickness range of layer 1 to ensure the temperature of the outer surface stays between 34.5 and 35.5 derees celcius:"
   ]
  },
  {
   "cell_type": "code",
   "execution_count": 178,
   "metadata": {},
   "outputs": [
    {
     "name": "stdout",
     "output_type": "stream",
     "text": [
      "The minimum thickness of layer 1 is: 0.150200    35.496316\n",
      "0.150281    35.485996\n",
      "0.150361    35.475682\n",
      "0.150441    35.465372\n",
      "0.150521    35.455068\n",
      "              ...    \n",
      "0.169679    33.130347\n",
      "0.169760    33.121176\n",
      "0.169840    33.112010\n",
      "0.169920    33.102848\n",
      "0.170000    33.093690\n",
      "Name: 0, Length: 248, dtype: float64\n"
     ]
    }
   ],
   "source": [
    "xx=np.linspace(0.13,0.17,500)\n",
    "n=len(x)\n",
    "yy=np.zeros(xx.shape)\n",
    "\n",
    "for i in range(n):\n",
    "    product=y2[i]\n",
    "    for j in range(n):\n",
    "        if j!=i:\n",
    "            product*=(xx-x[j])/(x[i]-x[j])\n",
    "    yy+=product\n",
    "        \n",
    "# convert to dataframe\n",
    "T_vals=pd.DataFrame(yy,xx) \n",
    "my_max=T_vals[T_vals[0]<=35.5]\n",
    "my_min=T_vals[T_vals[0]>=34.5]\n",
    "\n",
    "print('The maximum thickness of layer 1 is:', my_max[0])\n",
    "print('The minimum thickness of layer 1 is:', my_min[0])"
   ]
  },
  {
   "cell_type": "code",
   "execution_count": null,
   "metadata": {},
   "outputs": [],
   "source": []
  },
  {
   "cell_type": "code",
   "execution_count": null,
   "metadata": {},
   "outputs": [],
   "source": []
  }
 ],
 "metadata": {
  "kernelspec": {
   "display_name": "Python 3",
   "language": "python",
   "name": "python3"
  },
  "language_info": {
   "codemirror_mode": {
    "name": "ipython",
    "version": 3
   },
   "file_extension": ".py",
   "mimetype": "text/x-python",
   "name": "python",
   "nbconvert_exporter": "python",
   "pygments_lexer": "ipython3",
   "version": "3.7.6"
  }
 },
 "nbformat": 4,
 "nbformat_minor": 4
}
